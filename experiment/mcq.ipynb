{
 "cells": [
  {
   "cell_type": "code",
   "execution_count": 21,
   "metadata": {},
   "outputs": [],
   "source": [
    "import os\n",
    "import json\n",
    "import pandas as pd\n",
    "import traceback\n"
   ]
  },
  {
   "cell_type": "code",
   "execution_count": 22,
   "metadata": {},
   "outputs": [],
   "source": [
    "from langchain.chat_models import ChatOpenAI\n"
   ]
  },
  {
   "cell_type": "code",
   "execution_count": 23,
   "metadata": {},
   "outputs": [
    {
     "data": {
      "text/plain": [
       "True"
      ]
     },
     "execution_count": 23,
     "metadata": {},
     "output_type": "execute_result"
    }
   ],
   "source": [
    "from dotenv import load_dotenv\n",
    "load_dotenv()"
   ]
  },
  {
   "cell_type": "code",
   "execution_count": 24,
   "metadata": {},
   "outputs": [],
   "source": [
    "KEY=os.getenv(\"OPENAI_API_KEY\")"
   ]
  },
  {
   "cell_type": "code",
   "execution_count": 25,
   "metadata": {},
   "outputs": [],
   "source": [
    "llm=ChatOpenAI(openai_api_key=KEY,model_name=\"gpt-3.5-turbo\",temperature=0.5)"
   ]
  },
  {
   "cell_type": "code",
   "execution_count": 26,
   "metadata": {},
   "outputs": [],
   "source": [
    "from langchain.llms import OpenAI\n",
    "from langchain.prompts import PromptTemplate\n",
    "from langchain.chains import LLMChain\n",
    "from langchain.chains import SequentialChain\n",
    "from langchain.callbacks import get_openai_callback\n",
    "import PyPDF2"
   ]
  },
  {
   "cell_type": "code",
   "execution_count": 27,
   "metadata": {},
   "outputs": [],
   "source": [
    "RESPONSE_JSON = {\n",
    "    \"1\": {\n",
    "        \"mcq\": \"multiple choice question\",\n",
    "        \"options\": {\n",
    "            \"a\": \"choice here\",\n",
    "            \"b\": \"choice here\",\n",
    "            \"c\": \"choice here\",\n",
    "            \"d\": \"choice here\",\n",
    "        },\n",
    "        \"correct\": \"correct answer\",\n",
    "    },\n",
    "    \"2\": {\n",
    "        \"mcq\": \"multiple choice question\",\n",
    "        \"options\": {\n",
    "            \"a\": \"choice here\",\n",
    "            \"b\": \"choice here\",\n",
    "            \"c\": \"choice here\",\n",
    "            \"d\": \"choice here\",\n",
    "        },\n",
    "        \"correct\": \"correct answer\",\n",
    "    },\n",
    "    \"3\": {\n",
    "        \"mcq\": \"multiple choice question\",\n",
    "        \"options\": {\n",
    "            \"a\": \"choice here\",\n",
    "            \"b\": \"choice here\",\n",
    "            \"c\": \"choice here\",\n",
    "            \"d\": \"choice here\",\n",
    "        },\n",
    "        \"correct\": \"correct answer\",\n",
    "    },\n",
    "}"
   ]
  },
  {
   "cell_type": "code",
   "execution_count": 28,
   "metadata": {},
   "outputs": [],
   "source": [
    "TEMPLATE=\"\"\"\n",
    "Text:{text}\n",
    "You are an expert MCQ maker. Given the above text, it is your job to \\\n",
    "create a quiz  of {number} multiple choice questions for {subject} students in {tone} tone. \n",
    "Make sure the questions are not repeated and check all the questions to be conforming the text as well.\n",
    "Make sure to format your response like  RESPONSE_JSON below  and use it as a guide. \\\n",
    "Ensure to make {number} MCQs\n",
    "### RESPONSE_JSON\n",
    "{response_json}\n",
    "\n",
    "\"\"\""
   ]
  },
  {
   "cell_type": "code",
   "execution_count": 29,
   "metadata": {},
   "outputs": [],
   "source": [
    "quiz_generation_prompt = PromptTemplate(\n",
    "    input_variables=[\"text\", \"number\", \"subject\", \"tone\", \"response_json\"],\n",
    "    template=TEMPLATE\n",
    "    )"
   ]
  },
  {
   "cell_type": "code",
   "execution_count": 30,
   "metadata": {},
   "outputs": [
    {
     "name": "stderr",
     "output_type": "stream",
     "text": [
      "C:\\Users\\santh\\AppData\\Local\\Temp\\ipykernel_921716\\3797420763.py:1: LangChainDeprecationWarning: The class `LLMChain` was deprecated in LangChain 0.1.17 and will be removed in 1.0. Use :meth:`~RunnableSequence, e.g., `prompt | llm`` instead.\n",
      "  quiz_chain=LLMChain(llm=llm, prompt=quiz_generation_prompt, output_key=\"quiz\", verbose=True)\n"
     ]
    }
   ],
   "source": [
    "\n",
    "quiz_chain=LLMChain(llm=llm, prompt=quiz_generation_prompt, output_key=\"quiz\", verbose=True)"
   ]
  },
  {
   "cell_type": "code",
   "execution_count": 31,
   "metadata": {},
   "outputs": [],
   "source": [
    "TEMPLATE2=\"\"\"\n",
    "You are an expert english grammarian and writer. Given a Multiple Choice Quiz for {subject} students.\\\n",
    "You need to evaluate the complexity of the question and give a complete analysis of the quiz. Only use at max 50 words for complexity analysis. \n",
    "if the quiz is not at per with the cognitive and analytical abilities of the students,\\\n",
    "update the quiz questions which needs to be changed and change the tone such that it perfectly fits the student abilities\n",
    "Quiz_MCQs:\n",
    "{quiz}\n",
    "\n",
    "Check from an expert English Writer of the above quiz:\n",
    "\"\"\""
   ]
  },
  {
   "cell_type": "code",
   "execution_count": 32,
   "metadata": {},
   "outputs": [],
   "source": [
    "quiz_evaluation_prompt=PromptTemplate(input_variables=[\"subject\", \"quiz\"], template=TEMPLATE)"
   ]
  },
  {
   "cell_type": "code",
   "execution_count": 33,
   "metadata": {},
   "outputs": [],
   "source": [
    "review_chain=LLMChain(llm=llm, prompt=quiz_evaluation_prompt, output_key=\"review\", verbose=True)"
   ]
  },
  {
   "cell_type": "code",
   "execution_count": 34,
   "metadata": {},
   "outputs": [],
   "source": [
    "generate_evaluate_chain=SequentialChain(chains=[quiz_chain, review_chain], input_variables=[\"text\", \"number\", \"subject\", \"tone\", \"response_json\"],\n",
    "                                        output_variables=[\"quiz\", \"review\"], verbose=True,)"
   ]
  },
  {
   "cell_type": "code",
   "execution_count": 41,
   "metadata": {},
   "outputs": [],
   "source": [
    "file_path=r\"C:\\Users\\santh\\mcqgen\\data.txt\""
   ]
  },
  {
   "cell_type": "code",
   "execution_count": 42,
   "metadata": {},
   "outputs": [],
   "source": [
    "\n",
    "with open(file_path, 'r') as file:\n",
    "    TEXT = file.read()"
   ]
  },
  {
   "cell_type": "code",
   "execution_count": 44,
   "metadata": {},
   "outputs": [
    {
     "name": "stdout",
     "output_type": "stream",
     "text": [
      "Requirement for climate action which is around $2.3–2.5 trillion in emerging markets and developing countries (EMDCs) other than China. (Raising Ambition and Accelerating Delivery of Climate Finance' Report)\n",
      "Due to inadequate funding, developing countries including India have rejected the climate finance deal agreed at COP29.\n",
      "Deadlock on Mitigation Work Programme (MWP): Due to a divergence in views on the role of fossil fuels in the future energy mix.\n",
      "The Global Stocktake, a comprehensive assessment of global progress towards climate goals, was a point of contention.\n",
      "Limited progress on climate targets:  Progress in ambition and action since the initial NDCs plateaued and countries are still off track to deliver on the globally insufficient mitigation pledges for 2030. \n",
      "Global greenhouse gas emissions set a new record in 2023, with a 1.3% increase from 2022 levels (UNEP's Emissions Gap Report 2024).\n",
      "Other Issues:\n",
      "Slow pace of operationalizing the Loss and Damage Fund (LDF) and concerns over its inadequate funding.\n",
      "Next round of Nationally Determined Contributions (NDCs) has been postponed ahead of COP30.\n",
      "Large disparities between the current, per capita and historic emissions of major emitters and world regions.  \n",
      "G20 members accounted for 77% of global emissions.\n",
      "Alleged influence of Fossil fuel lobbyists in negotiations.\n"
     ]
    }
   ],
   "source": [
    "print(TEXT)"
   ]
  },
  {
   "cell_type": "code",
   "execution_count": 48,
   "metadata": {},
   "outputs": [
    {
     "data": {
      "text/plain": [
       "'{\"1\": {\"mcq\": \"multiple choice question\", \"options\": {\"a\": \"choice here\", \"b\": \"choice here\", \"c\": \"choice here\", \"d\": \"choice here\"}, \"correct\": \"correct answer\"}, \"2\": {\"mcq\": \"multiple choice question\", \"options\": {\"a\": \"choice here\", \"b\": \"choice here\", \"c\": \"choice here\", \"d\": \"choice here\"}, \"correct\": \"correct answer\"}, \"3\": {\"mcq\": \"multiple choice question\", \"options\": {\"a\": \"choice here\", \"b\": \"choice here\", \"c\": \"choice here\", \"d\": \"choice here\"}, \"correct\": \"correct answer\"}}'"
      ]
     },
     "execution_count": 48,
     "metadata": {},
     "output_type": "execute_result"
    }
   ],
   "source": [
    "\n",
    "# Serialize the Python dictionary into a JSON-formatted string\n",
    "json.dumps(RESPONSE_JSON)"
   ]
  },
  {
   "cell_type": "code",
   "execution_count": 51,
   "metadata": {},
   "outputs": [],
   "source": [
    "NUMBER=5 \n",
    "SUBJECT=\"environment\"\n",
    "TONE=\"simple\""
   ]
  },
  {
   "cell_type": "code",
   "execution_count": 53,
   "metadata": {},
   "outputs": [
    {
     "name": "stdout",
     "output_type": "stream",
     "text": [
      "\n",
      "\n",
      "\u001b[1m> Entering new SequentialChain chain...\u001b[0m\n",
      "\n",
      "\n",
      "\u001b[1m> Entering new LLMChain chain...\u001b[0m\n",
      "Prompt after formatting:\n",
      "\u001b[32;1m\u001b[1;3m\n",
      "Text:Requirement for climate action which is around $2.3–2.5 trillion in emerging markets and developing countries (EMDCs) other than China. (Raising Ambition and Accelerating Delivery of Climate Finance' Report)\n",
      "Due to inadequate funding, developing countries including India have rejected the climate finance deal agreed at COP29.\n",
      "Deadlock on Mitigation Work Programme (MWP): Due to a divergence in views on the role of fossil fuels in the future energy mix.\n",
      "The Global Stocktake, a comprehensive assessment of global progress towards climate goals, was a point of contention.\n",
      "Limited progress on climate targets:  Progress in ambition and action since the initial NDCs plateaued and countries are still off track to deliver on the globally insufficient mitigation pledges for 2030. \n",
      "Global greenhouse gas emissions set a new record in 2023, with a 1.3% increase from 2022 levels (UNEP's Emissions Gap Report 2024).\n",
      "Other Issues:\n",
      "Slow pace of operationalizing the Loss and Damage Fund (LDF) and concerns over its inadequate funding.\n",
      "Next round of Nationally Determined Contributions (NDCs) has been postponed ahead of COP30.\n",
      "Large disparities between the current, per capita and historic emissions of major emitters and world regions.  \n",
      "G20 members accounted for 77% of global emissions.\n",
      "Alleged influence of Fossil fuel lobbyists in negotiations.\n",
      "You are an expert MCQ maker. Given the above text, it is your job to create a quiz  of 5 multiple choice questions for environment students in simple tone. \n",
      "Make sure the questions are not repeated and check all the questions to be conforming the text as well.\n",
      "Make sure to format your response like  RESPONSE_JSON below  and use it as a guide. Ensure to make 5 MCQs\n",
      "### RESPONSE_JSON\n",
      "{\"1\": {\"mcq\": \"multiple choice question\", \"options\": {\"a\": \"choice here\", \"b\": \"choice here\", \"c\": \"choice here\", \"d\": \"choice here\"}, \"correct\": \"correct answer\"}, \"2\": {\"mcq\": \"multiple choice question\", \"options\": {\"a\": \"choice here\", \"b\": \"choice here\", \"c\": \"choice here\", \"d\": \"choice here\"}, \"correct\": \"correct answer\"}, \"3\": {\"mcq\": \"multiple choice question\", \"options\": {\"a\": \"choice here\", \"b\": \"choice here\", \"c\": \"choice here\", \"d\": \"choice here\"}, \"correct\": \"correct answer\"}}\n",
      "\n",
      "\u001b[0m\n",
      "\n",
      "\u001b[1m> Finished chain.\u001b[0m\n",
      "\n",
      "\n",
      "\u001b[1m> Entering new LLMChain chain...\u001b[0m\n",
      "Prompt after formatting:\n",
      "\u001b[32;1m\u001b[1;3m\n",
      "Text:Requirement for climate action which is around $2.3–2.5 trillion in emerging markets and developing countries (EMDCs) other than China. (Raising Ambition and Accelerating Delivery of Climate Finance' Report)\n",
      "Due to inadequate funding, developing countries including India have rejected the climate finance deal agreed at COP29.\n",
      "Deadlock on Mitigation Work Programme (MWP): Due to a divergence in views on the role of fossil fuels in the future energy mix.\n",
      "The Global Stocktake, a comprehensive assessment of global progress towards climate goals, was a point of contention.\n",
      "Limited progress on climate targets:  Progress in ambition and action since the initial NDCs plateaued and countries are still off track to deliver on the globally insufficient mitigation pledges for 2030. \n",
      "Global greenhouse gas emissions set a new record in 2023, with a 1.3% increase from 2022 levels (UNEP's Emissions Gap Report 2024).\n",
      "Other Issues:\n",
      "Slow pace of operationalizing the Loss and Damage Fund (LDF) and concerns over its inadequate funding.\n",
      "Next round of Nationally Determined Contributions (NDCs) has been postponed ahead of COP30.\n",
      "Large disparities between the current, per capita and historic emissions of major emitters and world regions.  \n",
      "G20 members accounted for 77% of global emissions.\n",
      "Alleged influence of Fossil fuel lobbyists in negotiations.\n",
      "You are an expert MCQ maker. Given the above text, it is your job to create a quiz  of 5 multiple choice questions for environment students in simple tone. \n",
      "Make sure the questions are not repeated and check all the questions to be conforming the text as well.\n",
      "Make sure to format your response like  RESPONSE_JSON below  and use it as a guide. Ensure to make 5 MCQs\n",
      "### RESPONSE_JSON\n",
      "{\"1\": {\"mcq\": \"multiple choice question\", \"options\": {\"a\": \"choice here\", \"b\": \"choice here\", \"c\": \"choice here\", \"d\": \"choice here\"}, \"correct\": \"correct answer\"}, \"2\": {\"mcq\": \"multiple choice question\", \"options\": {\"a\": \"choice here\", \"b\": \"choice here\", \"c\": \"choice here\", \"d\": \"choice here\"}, \"correct\": \"correct answer\"}, \"3\": {\"mcq\": \"multiple choice question\", \"options\": {\"a\": \"choice here\", \"b\": \"choice here\", \"c\": \"choice here\", \"d\": \"choice here\"}, \"correct\": \"correct answer\"}}\n",
      "\n",
      "\u001b[0m\n",
      "\n",
      "\u001b[1m> Finished chain.\u001b[0m\n",
      "\n",
      "\u001b[1m> Finished chain.\u001b[0m\n"
     ]
    }
   ],
   "source": [
    "#https://python.langchain.com/docs/modules/model_io/llms/token_usage_tracking\n",
    "\n",
    "#How to setup Token Usage Tracking in LangChain\n",
    "with get_openai_callback() as cb:\n",
    "    response=generate_evaluate_chain(\n",
    "        {\n",
    "            \"text\": TEXT,\n",
    "            \"number\": NUMBER,\n",
    "            \"subject\":SUBJECT,\n",
    "            \"tone\": TONE,\n",
    "            \"response_json\": json.dumps(RESPONSE_JSON)\n",
    "        }\n",
    "        )"
   ]
  },
  {
   "cell_type": "code",
   "execution_count": 54,
   "metadata": {},
   "outputs": [
    {
     "name": "stdout",
     "output_type": "stream",
     "text": [
      "Total Tokens:1987\n",
      "Prompt Tokens:1066\n",
      "Completion Tokens:921\n",
      "Total Cost:0.003441\n"
     ]
    }
   ],
   "source": [
    "\n",
    "print(f\"Total Tokens:{cb.total_tokens}\")\n",
    "print(f\"Prompt Tokens:{cb.prompt_tokens}\")\n",
    "print(f\"Completion Tokens:{cb.completion_tokens}\")\n",
    "print(f\"Total Cost:{cb.total_cost}\")"
   ]
  },
  {
   "cell_type": "code",
   "execution_count": 55,
   "metadata": {},
   "outputs": [
    {
     "data": {
      "text/plain": [
       "{'text': \"Requirement for climate action which is around $2.3–2.5 trillion in emerging markets and developing countries (EMDCs) other than China. (Raising Ambition and Accelerating Delivery of Climate Finance' Report)\\nDue to inadequate funding, developing countries including India have rejected the climate finance deal agreed at COP29.\\nDeadlock on Mitigation Work Programme (MWP): Due to a divergence in views on the role of fossil fuels in the future energy mix.\\nThe Global Stocktake, a comprehensive assessment of global progress towards climate goals, was a point of contention.\\nLimited progress on climate targets:  Progress in ambition and action since the initial NDCs plateaued and countries are still off track to deliver on the globally insufficient mitigation pledges for 2030. \\nGlobal greenhouse gas emissions set a new record in 2023, with a 1.3% increase from 2022 levels (UNEP's Emissions Gap Report 2024).\\nOther Issues:\\nSlow pace of operationalizing the Loss and Damage Fund (LDF) and concerns over its inadequate funding.\\nNext round of Nationally Determined Contributions (NDCs) has been postponed ahead of COP30.\\nLarge disparities between the current, per capita and historic emissions of major emitters and world regions.  \\nG20 members accounted for 77% of global emissions.\\nAlleged influence of Fossil fuel lobbyists in negotiations.\",\n",
       " 'number': 5,\n",
       " 'subject': 'environment',\n",
       " 'tone': 'simple',\n",
       " 'response_json': '{\"1\": {\"mcq\": \"multiple choice question\", \"options\": {\"a\": \"choice here\", \"b\": \"choice here\", \"c\": \"choice here\", \"d\": \"choice here\"}, \"correct\": \"correct answer\"}, \"2\": {\"mcq\": \"multiple choice question\", \"options\": {\"a\": \"choice here\", \"b\": \"choice here\", \"c\": \"choice here\", \"d\": \"choice here\"}, \"correct\": \"correct answer\"}, \"3\": {\"mcq\": \"multiple choice question\", \"options\": {\"a\": \"choice here\", \"b\": \"choice here\", \"c\": \"choice here\", \"d\": \"choice here\"}, \"correct\": \"correct answer\"}}',\n",
       " 'quiz': '\\n{\\n    \"1\": {\\n        \"mcq\": \"What was the main reason for developing countries, including India, rejecting the climate finance deal agreed at COP29?\",\\n        \"options\": {\\n            \"a\": \"Lack of interest in climate action\",\\n            \"b\": \"Inadequate funding\",\\n            \"c\": \"Disagreement on emission reduction targets\",\\n            \"d\": \"Political reasons\"\\n        },\\n        \"correct\": \"b\"\\n    },\\n    \"2\": {\\n        \"mcq\": \"What was a point of contention during the Global Stocktake, a comprehensive assessment of global progress towards climate goals?\",\\n        \"options\": {\\n            \"a\": \"Role of fossil fuels in the future energy mix\",\\n            \"b\": \"Renewable energy sources\",\\n            \"c\": \"Carbon capture technology\",\\n            \"d\": \"Climate adaptation strategies\"\\n        },\\n        \"correct\": \"a\"\\n    },\\n    \"3\": {\\n        \"mcq\": \"What is the reason for the postponement of the next round of Nationally Determined Contributions (NDCs) ahead of COP30?\",\\n        \"options\": {\\n            \"a\": \"Lack of interest in climate action\",\\n            \"b\": \"Disagreement on emission reduction targets\",\\n            \"c\": \"Inadequate funding for climate finance\",\\n            \"d\": \"Alleged influence of Fossil fuel lobbyists\"\\n        },\\n        \"correct\": \"b\"\\n    },\\n    \"4\": {\\n        \"mcq\": \"What was the main issue regarding the operationalization of the Loss and Damage Fund (LDF)?\",\\n        \"options\": {\\n            \"a\": \"Lack of interest in climate action\",\\n            \"b\": \"Concerns over inadequate funding\",\\n            \"c\": \"Disagreement on emission reduction targets\",\\n            \"d\": \"Alleged influence of Fossil fuel lobbyists\"\\n        },\\n        \"correct\": \"b\"\\n    },\\n    \"5\": {\\n        \"mcq\": \"Which group accounted for 77% of global emissions according to the text?\",\\n        \"options\": {\\n            \"a\": \"Developing countries\",\\n            \"b\": \"G20 members\",\\n            \"c\": \"European Union\",\\n            \"d\": \"United Nations\"\\n        },\\n        \"correct\": \"b\"\\n    }\\n}',\n",
       " 'review': '\\n{\\n    \"1\": {\\n        \"mcq\": \"What was the main reason developing countries, including India, rejected the climate finance deal agreed at COP29?\",\\n        \"options\": {\\n            \"a\": \"Lack of interest in climate action\",\\n            \"b\": \"Inadequate funding\",\\n            \"c\": \"Disagreement on emission targets\",\\n            \"d\": \"Pressure from fossil fuel lobbyists\"\\n        },\\n        \"correct\": \"b\"\\n    },\\n    \"2\": {\\n        \"mcq\": \"What was a point of contention related to the Global Stocktake?\",\\n        \"options\": {\\n            \"a\": \"Assessment of global progress towards climate goals\",\\n            \"b\": \"Funding for developing countries\",\\n            \"c\": \"Role of fossil fuels in the future energy mix\",\\n            \"d\": \"Mitigation Work Programme deadlock\"\\n        },\\n        \"correct\": \"a\"\\n    },\\n    \"3\": {\\n        \"mcq\": \"What was the percentage increase in global greenhouse gas emissions in 2023 compared to 2022 levels?\",\\n        \"options\": {\\n            \"a\": \"1.3%\",\\n            \"b\": \"2.5%\",\\n            \"c\": \"0.5%\",\\n            \"d\": \"3.7%\"\\n        },\\n        \"correct\": \"a\"\\n    },\\n    \"4\": {\\n        \"mcq\": \"What is one of the issues related to the Loss and Damage Fund (LDF) mentioned in the text?\",\\n        \"options\": {\\n            \"a\": \"Slow pace of operationalizing the fund\",\\n            \"b\": \"Overfunding of the fund\",\\n            \"c\": \"No concerns over funding\",\\n            \"d\": \"Successful implementation of the fund\"\\n        },\\n        \"correct\": \"a\"\\n    },\\n    \"5\": {\\n        \"mcq\": \"Which group accounted for 77% of global emissions according to the text?\",\\n        \"options\": {\\n            \"a\": \"Developing countries\",\\n            \"b\": \"Major emitters\",\\n            \"c\": \"Fossil fuel lobbyists\",\\n            \"d\": \"G20 members\"\\n        },\\n        \"correct\": \"d\"\\n    }\\n}'}"
      ]
     },
     "execution_count": 55,
     "metadata": {},
     "output_type": "execute_result"
    }
   ],
   "source": [
    "response"
   ]
  },
  {
   "cell_type": "code",
   "execution_count": 56,
   "metadata": {},
   "outputs": [],
   "source": [
    "quiz=response.get(\"quiz\")"
   ]
  },
  {
   "cell_type": "code",
   "execution_count": 62,
   "metadata": {},
   "outputs": [],
   "source": [
    "\n",
    "quiz_table_data = []\n",
    "for key, value in quiz.items():\n",
    "    mcq = value[\"mcq\"]\n",
    "    options = \" | \".join(\n",
    "        [\n",
    "            f\"{option}: {option_value}\"\n",
    "            for option, option_value in value[\"options\"].items()\n",
    "            ]\n",
    "        )\n",
    "    correct = value[\"correct\"]\n",
    "    quiz_table_data.append({\"MCQ\": mcq, \"Choices\": options, \"Correct\": correct})"
   ]
  },
  {
   "cell_type": "code",
   "execution_count": 63,
   "metadata": {},
   "outputs": [
    {
     "data": {
      "text/plain": [
       "[{'MCQ': 'What was the main reason for developing countries, including India, rejecting the climate finance deal agreed at COP29?',\n",
       "  'Choices': 'a: Lack of interest in climate action | b: Inadequate funding | c: Disagreement on emission reduction targets | d: Political reasons',\n",
       "  'Correct': 'b'},\n",
       " {'MCQ': 'What was a point of contention during the Global Stocktake, a comprehensive assessment of global progress towards climate goals?',\n",
       "  'Choices': 'a: Role of fossil fuels in the future energy mix | b: Renewable energy sources | c: Carbon capture technology | d: Climate adaptation strategies',\n",
       "  'Correct': 'a'},\n",
       " {'MCQ': 'What is the reason for the postponement of the next round of Nationally Determined Contributions (NDCs) ahead of COP30?',\n",
       "  'Choices': 'a: Lack of interest in climate action | b: Disagreement on emission reduction targets | c: Inadequate funding for climate finance | d: Alleged influence of Fossil fuel lobbyists',\n",
       "  'Correct': 'b'},\n",
       " {'MCQ': 'What was the main issue regarding the operationalization of the Loss and Damage Fund (LDF)?',\n",
       "  'Choices': 'a: Lack of interest in climate action | b: Concerns over inadequate funding | c: Disagreement on emission reduction targets | d: Alleged influence of Fossil fuel lobbyists',\n",
       "  'Correct': 'b'},\n",
       " {'MCQ': 'Which group accounted for 77% of global emissions according to the text?',\n",
       "  'Choices': 'a: Developing countries | b: G20 members | c: European Union | d: United Nations',\n",
       "  'Correct': 'b'}]"
      ]
     },
     "execution_count": 63,
     "metadata": {},
     "output_type": "execute_result"
    }
   ],
   "source": [
    "\n",
    "quiz_table_data\n"
   ]
  },
  {
   "cell_type": "code",
   "execution_count": 66,
   "metadata": {},
   "outputs": [],
   "source": [
    "quiz=pd.DataFrame(quiz_table_data)"
   ]
  },
  {
   "cell_type": "code",
   "execution_count": 67,
   "metadata": {},
   "outputs": [],
   "source": [
    "quiz.to_csv(\"cop29.csv\",index=False)"
   ]
  },
  {
   "cell_type": "code",
   "execution_count": null,
   "metadata": {},
   "outputs": [],
   "source": []
  }
 ],
 "metadata": {
  "kernelspec": {
   "display_name": "Python 3",
   "language": "python",
   "name": "python3"
  },
  "language_info": {
   "codemirror_mode": {
    "name": "ipython",
    "version": 3
   },
   "file_extension": ".py",
   "mimetype": "text/x-python",
   "name": "python",
   "nbconvert_exporter": "python",
   "pygments_lexer": "ipython3",
   "version": "3.11.11"
  }
 },
 "nbformat": 4,
 "nbformat_minor": 2
}
